{
  "nbformat": 4,
  "nbformat_minor": 0,
  "metadata": {
    "colab": {
      "name": "Python Exercise 2.ipynb",
      "provenance": [],
      "collapsed_sections": [],
      "authorship_tag": "ABX9TyPsgch8qrbIsjZynJm6KpQt",
      "include_colab_link": true
    },
    "kernelspec": {
      "name": "python3",
      "display_name": "Python 3"
    },
    "language_info": {
      "name": "python"
    }
  },
  "cells": [
    {
      "cell_type": "markdown",
      "metadata": {
        "id": "view-in-github",
        "colab_type": "text"
      },
      "source": [
        "<a href=\"https://colab.research.google.com/github/louvrehes/Numerical-Methods/blob/main/Python%20Exercise%202.ipynb\" target=\"_parent\"><img src=\"https://colab.research.google.com/assets/colab-badge.svg\" alt=\"Open In Colab\"/></a>"
      ]
    },
    {
      "cell_type": "markdown",
      "metadata": {
        "id": "ht5n5hVwarMl"
      },
      "source": [
        "Name: ANGELO, Jamaica Joy S.\n",
        "<br>Student Number: 201811828\n",
        "<br>Section: 58101\n",
        "<br>Course: Numerical Methods"
      ]
    },
    {
      "cell_type": "markdown",
      "metadata": {
        "id": "EDPesfdfbQGM"
      },
      "source": [
        "### <b><u>Matrix and its Operations"
      ]
    },
    {
      "cell_type": "markdown",
      "metadata": {
        "id": "amhs8lukbeA0"
      },
      "source": [
        "Create a Numpy that performs the operations of given matrices.\n",
        "1. Sum = A + B\n",
        "2. Difference 1 = A - B\n",
        "3. Difference 2 = B - A"
      ]
    },
    {
      "cell_type": "code",
      "metadata": {
        "id": "mtT69nTZanLL"
      },
      "source": [
        "import numpy as np"
      ],
      "execution_count": 1,
      "outputs": []
    },
    {
      "cell_type": "markdown",
      "metadata": {
        "id": "fWiPwsdgeCfE"
      },
      "source": [
        "### <b>Sum = A + B"
      ]
    },
    {
      "cell_type": "code",
      "metadata": {
        "colab": {
          "base_uri": "https://localhost:8080/"
        },
        "id": "ZQf7kLQzdSPw",
        "outputId": "fb746464-d217-4296-c547-3f670eaeeb32"
      },
      "source": [
        "A = np.array([\n",
        "              [-5, 0],\n",
        "              [4, 1]\n",
        "])\n",
        "\n",
        "B = np.array([\n",
        "              [6, -3],\n",
        "              [2, 3]\n",
        "])\n",
        "print(A+B)"
      ],
      "execution_count": 6,
      "outputs": [
        {
          "output_type": "stream",
          "name": "stdout",
          "text": [
            "[[ 1 -3]\n",
            " [ 6  4]]\n"
          ]
        }
      ]
    },
    {
      "cell_type": "markdown",
      "metadata": {
        "id": "FqhQxJNDeIkK"
      },
      "source": [
        "### <b>Difference 1 = A - B"
      ]
    },
    {
      "cell_type": "code",
      "metadata": {
        "colab": {
          "base_uri": "https://localhost:8080/"
        },
        "id": "Ciq0Tzhld1Y1",
        "outputId": "ca2f83c6-e4c5-43cc-d05f-acbb96153d4d"
      },
      "source": [
        "A = np.array([\n",
        "              [-5, 0],\n",
        "              [4, 1]\n",
        "])\n",
        "\n",
        "B = np.array([\n",
        "              [6, -3],\n",
        "              [2, 3]\n",
        "])\n",
        "print(A-B)"
      ],
      "execution_count": 9,
      "outputs": [
        {
          "output_type": "stream",
          "name": "stdout",
          "text": [
            "[[-11   3]\n",
            " [  2  -2]]\n"
          ]
        }
      ]
    },
    {
      "cell_type": "markdown",
      "metadata": {
        "id": "Nyr6zlkXex2L"
      },
      "source": [
        "### <b>Difference 2 = B - A"
      ]
    },
    {
      "cell_type": "code",
      "metadata": {
        "colab": {
          "base_uri": "https://localhost:8080/"
        },
        "id": "M-lSlFsteSL8",
        "outputId": "b4f6ac95-9457-4e17-c884-d417f62e0140"
      },
      "source": [
        "A = np.array([\n",
        "              [-5, 0],\n",
        "              [4, 1]\n",
        "])\n",
        "\n",
        "B = np.array([\n",
        "              [6, -3],\n",
        "              [2, 3]\n",
        "])\n",
        "print(B-A)"
      ],
      "execution_count": 10,
      "outputs": [
        {
          "output_type": "stream",
          "name": "stdout",
          "text": [
            "[[11 -3]\n",
            " [-2  2]]\n"
          ]
        }
      ]
    }
  ]
}