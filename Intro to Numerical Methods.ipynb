{
  "nbformat": 4,
  "nbformat_minor": 0,
  "metadata": {
    "colab": {
      "name": "Intro to Numerical Methods.ipynb",
      "provenance": [],
      "collapsed_sections": [],
      "authorship_tag": "ABX9TyPEq93Cghl3LnUvgAyG3H9p",
      "include_colab_link": true
    },
    "kernelspec": {
      "name": "python3",
      "display_name": "Python 3"
    },
    "language_info": {
      "name": "python"
    }
  },
  "cells": [
    {
      "cell_type": "markdown",
      "metadata": {
        "id": "view-in-github",
        "colab_type": "text"
      },
      "source": [
        "<a href=\"https://colab.research.google.com/github/louvrehes/Numerical-Methods/blob/main/Intro%20to%20Numerical%20Methods.ipynb\" target=\"_parent\"><img src=\"https://colab.research.google.com/assets/colab-badge.svg\" alt=\"Open In Colab\"/></a>"
      ]
    },
    {
      "cell_type": "markdown",
      "metadata": {
        "id": "Qat2101IWl1p"
      },
      "source": [
        "ANGELO, Jamaica Joy S.\n",
        "<br>Section: <b>58101</b>"
      ]
    },
    {
      "cell_type": "markdown",
      "metadata": {
        "id": "Hp6FWyrWORd3"
      },
      "source": [
        "#Intro to Numerical Methods\n",
        "##Demonstration"
      ]
    },
    {
      "cell_type": "code",
      "metadata": {
        "colab": {
          "base_uri": "https://localhost:8080/"
        },
        "id": "Gmmtu3kzOg0r",
        "outputId": "efcfd403-e620-497a-8466-fc9f172470bb"
      },
      "source": [
        "b = \"sally\" #this is a type of string\n",
        "b = int(4)\n",
        "b = \"John\"\n",
        "print(b)"
      ],
      "execution_count": 4,
      "outputs": [
        {
          "output_type": "stream",
          "text": [
            "John\n"
          ],
          "name": "stdout"
        }
      ]
    },
    {
      "cell_type": "code",
      "metadata": {
        "colab": {
          "base_uri": "https://localhost:8080/"
        },
        "id": "gIuiQTsJOzjs",
        "outputId": "c1e56537-e685-4d2a-fda8-1dff5a43feb1"
      },
      "source": [
        "#CASTING\n",
        "\n",
        "b = float(4) #this will display a floating or a decimal number.\n",
        "print(b)"
      ],
      "execution_count": 6,
      "outputs": [
        {
          "output_type": "stream",
          "text": [
            "4.0\n"
          ],
          "name": "stdout"
        }
      ]
    },
    {
      "cell_type": "code",
      "metadata": {
        "colab": {
          "base_uri": "https://localhost:8080/"
        },
        "id": "YIQri4NqPJyn",
        "outputId": "39bd9c66-444a-4ba0-f806-8f6e1b1f2278"
      },
      "source": [
        "#Type() function\n",
        "\n",
        "x = 5\n",
        "y = \"John\"\n",
        "print(type(x))\n",
        "print(type(y))"
      ],
      "execution_count": 8,
      "outputs": [
        {
          "output_type": "stream",
          "text": [
            "<class 'int'>\n",
            "<class 'str'>\n"
          ],
          "name": "stdout"
        }
      ]
    },
    {
      "cell_type": "code",
      "metadata": {
        "colab": {
          "base_uri": "https://localhost:8080/"
        },
        "id": "OIF8EqQMPdci",
        "outputId": "6a3f1a1f-dbbf-4b08-ab07-ca3eed7074a3"
      },
      "source": [
        "#Strings\n",
        "\n",
        "b = 'Sally'\n",
        "print(b)\n",
        "\n",
        "b = \"Sally\"\n",
        "print(b)"
      ],
      "execution_count": 11,
      "outputs": [
        {
          "output_type": "stream",
          "text": [
            "Sally\n",
            "Sally\n"
          ],
          "name": "stdout"
        }
      ]
    },
    {
      "cell_type": "code",
      "metadata": {
        "colab": {
          "base_uri": "https://localhost:8080/"
        },
        "id": "84UbWVF6QP8_",
        "outputId": "aa747ff6-4bd5-4b44-f658-d24c96af4669"
      },
      "source": [
        "#Case sensitive\n",
        "\n",
        "b = 'Sally'\n",
        "B = 4\n",
        "print(b)\n",
        "print(B)"
      ],
      "execution_count": 16,
      "outputs": [
        {
          "output_type": "stream",
          "text": [
            "Sally\n",
            "4\n"
          ],
          "name": "stdout"
        }
      ]
    },
    {
      "cell_type": "markdown",
      "metadata": {
        "id": "ox8MZN_uQwS8"
      },
      "source": [
        "###<b>MULTIPLE VARIABLES</b>"
      ]
    },
    {
      "cell_type": "code",
      "metadata": {
        "colab": {
          "base_uri": "https://localhost:8080/"
        },
        "id": "QfeEpR7wQcqY",
        "outputId": "3dc63761-270a-4f79-ff05-2478a96a9226"
      },
      "source": [
        "x,y,z = 'one', 'two', 'three'\n",
        "print(x)\n",
        "print(y)\n",
        "print(z)"
      ],
      "execution_count": 17,
      "outputs": [
        {
          "output_type": "stream",
          "text": [
            "one\n",
            "two\n",
            "three\n"
          ],
          "name": "stdout"
        }
      ]
    },
    {
      "cell_type": "code",
      "metadata": {
        "colab": {
          "base_uri": "https://localhost:8080/"
        },
        "id": "YsOMZ4QKRIsi",
        "outputId": "0d91165b-a429-4382-c5c0-8a62da9228ea"
      },
      "source": [
        "#One value for multiple variables:\n",
        "\n",
        "x = y = z = 'one'\n",
        "print(x)\n",
        "print(y)\n",
        "print(z)"
      ],
      "execution_count": 19,
      "outputs": [
        {
          "output_type": "stream",
          "text": [
            "one\n",
            "one\n",
            "one\n"
          ],
          "name": "stdout"
        }
      ]
    },
    {
      "cell_type": "markdown",
      "metadata": {
        "id": "NvNM-ZAiRfCX"
      },
      "source": [
        "###**OUTPUT VARIABLES**"
      ]
    },
    {
      "cell_type": "code",
      "metadata": {
        "colab": {
          "base_uri": "https://localhost:8080/"
        },
        "id": "lZ1CfSjyRUXd",
        "outputId": "0dce029a-04ef-4f42-84f1-234a7c22c05f"
      },
      "source": [
        "x = \"enjoying\"\n",
        "print(\"Python programming is \"+ x)"
      ],
      "execution_count": 20,
      "outputs": [
        {
          "output_type": "stream",
          "text": [
            "Python programming is enjoying\n"
          ],
          "name": "stdout"
        }
      ]
    },
    {
      "cell_type": "code",
      "metadata": {
        "colab": {
          "base_uri": "https://localhost:8080/"
        },
        "id": "ABJ6AZb5Rn0J",
        "outputId": "2d1b02e9-b218-4155-9838-627d8fd6fda0"
      },
      "source": [
        "x = \"Python programming is \"\n",
        "y = \"enjoying\"\n",
        "z = x + y\n",
        "print(z)"
      ],
      "execution_count": 24,
      "outputs": [
        {
          "output_type": "stream",
          "text": [
            "Python programming is enjoying\n"
          ],
          "name": "stdout"
        }
      ]
    },
    {
      "cell_type": "markdown",
      "metadata": {
        "id": "jlXmrTyNS7Ok"
      },
      "source": [
        "##**ARITHMETIC OPERATIONS**"
      ]
    },
    {
      "cell_type": "code",
      "metadata": {
        "colab": {
          "base_uri": "https://localhost:8080/"
        },
        "id": "8bFN0r6wSfPl",
        "outputId": "541233af-1d93-47a3-a1d8-cfb8714fa01a"
      },
      "source": [
        "x = 5\n",
        "y = 3\n",
        "print(x + y)"
      ],
      "execution_count": 25,
      "outputs": [
        {
          "output_type": "stream",
          "text": [
            "8\n"
          ],
          "name": "stdout"
        }
      ]
    },
    {
      "cell_type": "code",
      "metadata": {
        "colab": {
          "base_uri": "https://localhost:8080/"
        },
        "id": "r52ZMA_ATMdD",
        "outputId": "2e203c94-2c08-488b-fb7f-3efa96c739a7"
      },
      "source": [
        "x = 5\n",
        "y = 3\n",
        "sum = x + y\n",
        "sum"
      ],
      "execution_count": 29,
      "outputs": [
        {
          "output_type": "execute_result",
          "data": {
            "text/plain": [
              "8"
            ]
          },
          "metadata": {},
          "execution_count": 29
        }
      ]
    },
    {
      "cell_type": "markdown",
      "metadata": {
        "id": "1scIkQ-WTuex"
      },
      "source": [
        "### **ASSIGNMENT OPERATORS**"
      ]
    },
    {
      "cell_type": "code",
      "metadata": {
        "colab": {
          "base_uri": "https://localhost:8080/"
        },
        "id": "N-FZx41zTgg9",
        "outputId": "5b78f0cf-989d-4df2-f61f-9f0ae95b7063"
      },
      "source": [
        "a, b, c = 0, -1, 6\n",
        "c%=2 #This will display the remainder of 6 divided by 2. No spaces.\n",
        "c"
      ],
      "execution_count": 34,
      "outputs": [
        {
          "output_type": "execute_result",
          "data": {
            "text/plain": [
              "0"
            ]
          },
          "metadata": {},
          "execution_count": 34
        }
      ]
    },
    {
      "cell_type": "code",
      "metadata": {
        "colab": {
          "base_uri": "https://localhost:8080/"
        },
        "id": "o7aZ04STUQpM",
        "outputId": "e301cc02-c9e4-4964-82f4-3e35b6d14e25"
      },
      "source": [
        "a, b, c = 0, -1, 5\n",
        "c%=2 #This is the same as c/2.\n",
        "c"
      ],
      "execution_count": 35,
      "outputs": [
        {
          "output_type": "execute_result",
          "data": {
            "text/plain": [
              "1"
            ]
          },
          "metadata": {},
          "execution_count": 35
        }
      ]
    },
    {
      "cell_type": "markdown",
      "metadata": {
        "id": "lJ1qDohIUzEP"
      },
      "source": [
        "##**COMPARISON OPERATORS**"
      ]
    },
    {
      "cell_type": "code",
      "metadata": {
        "colab": {
          "base_uri": "https://localhost:8080/"
        },
        "id": "oNAKlw0tUjKU",
        "outputId": "8f1e93d9-d5e8-40b7-b85f-8937381e63e5"
      },
      "source": [
        "x = 3\n",
        "y = 5\n",
        "compare = x > y\n",
        "compare"
      ],
      "execution_count": 37,
      "outputs": [
        {
          "output_type": "execute_result",
          "data": {
            "text/plain": [
              "False"
            ]
          },
          "metadata": {},
          "execution_count": 37
        }
      ]
    },
    {
      "cell_type": "code",
      "metadata": {
        "colab": {
          "base_uri": "https://localhost:8080/"
        },
        "id": "rt7dzpO2VH7d",
        "outputId": "ee20d02d-7fca-4dbf-8b6d-258311604db9"
      },
      "source": [
        "x = 5\n",
        "y = 3\n",
        "compare = x > y\n",
        "compare"
      ],
      "execution_count": 38,
      "outputs": [
        {
          "output_type": "execute_result",
          "data": {
            "text/plain": [
              "True"
            ]
          },
          "metadata": {},
          "execution_count": 38
        }
      ]
    },
    {
      "cell_type": "markdown",
      "metadata": {
        "id": "xUtuj9acVaIe"
      },
      "source": [
        "## **LOGICAL OPERATORS**"
      ]
    },
    {
      "cell_type": "code",
      "metadata": {
        "colab": {
          "base_uri": "https://localhost:8080/"
        },
        "id": "3INgC2v0VZPg",
        "outputId": "31a9f4e2-8187-43d1-ba8b-52bea1e8b408"
      },
      "source": [
        "x = 3\n",
        "y = 5\n",
        "x > x and y > y #neither of these returns any logical value."
      ],
      "execution_count": 39,
      "outputs": [
        {
          "output_type": "execute_result",
          "data": {
            "text/plain": [
              "False"
            ]
          },
          "metadata": {},
          "execution_count": 39
        }
      ]
    },
    {
      "cell_type": "code",
      "metadata": {
        "colab": {
          "base_uri": "https://localhost:8080/"
        },
        "id": "4JO8CTqoV3yh",
        "outputId": "c9e84aea-f617-484d-9f9c-8a14a5656c8f"
      },
      "source": [
        "x = 3\n",
        "y = 5\n",
        "x > 2 and y > 4"
      ],
      "execution_count": 41,
      "outputs": [
        {
          "output_type": "execute_result",
          "data": {
            "text/plain": [
              "True"
            ]
          },
          "metadata": {},
          "execution_count": 41
        }
      ]
    },
    {
      "cell_type": "markdown",
      "metadata": {
        "id": "BkY8k4E7WGWv"
      },
      "source": [
        "## **IDENTITY OPERATORS**"
      ]
    },
    {
      "cell_type": "code",
      "metadata": {
        "colab": {
          "base_uri": "https://localhost:8080/"
        },
        "id": "Egcg5EAaWAnT",
        "outputId": "641dd3d9-63c8-4878-9c5a-2d155f162e4c"
      },
      "source": [
        "x = 3\n",
        "y = 5\n",
        "x is y"
      ],
      "execution_count": 42,
      "outputs": [
        {
          "output_type": "execute_result",
          "data": {
            "text/plain": [
              "False"
            ]
          },
          "metadata": {},
          "execution_count": 42
        }
      ]
    },
    {
      "cell_type": "code",
      "metadata": {
        "colab": {
          "base_uri": "https://localhost:8080/"
        },
        "id": "yM8sJoZDWMVq",
        "outputId": "2debdbc1-b7bd-4ac6-f5d3-56457b95cc39"
      },
      "source": [
        "x = 3\n",
        "y = 5\n",
        "x is not y"
      ],
      "execution_count": 43,
      "outputs": [
        {
          "output_type": "execute_result",
          "data": {
            "text/plain": [
              "True"
            ]
          },
          "metadata": {},
          "execution_count": 43
        }
      ]
    },
    {
      "cell_type": "markdown",
      "metadata": {
        "id": "4zMYk96lWYIK"
      },
      "source": [
        "## **BITWISE OPERATORS**"
      ]
    },
    {
      "cell_type": "code",
      "metadata": {
        "id": "tRvFkZ70WQH9"
      },
      "source": [
        ""
      ],
      "execution_count": null,
      "outputs": []
    }
  ]
}