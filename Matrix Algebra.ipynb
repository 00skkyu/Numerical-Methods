{
  "nbformat": 4,
  "nbformat_minor": 0,
  "metadata": {
    "colab": {
      "name": "Matrix Algebra.ipynb",
      "provenance": [],
      "collapsed_sections": [],
      "authorship_tag": "ABX9TyMTZm7KSfW6ZkEiRNSM+0jr",
      "include_colab_link": true
    },
    "kernelspec": {
      "name": "python3",
      "display_name": "Python 3"
    },
    "language_info": {
      "name": "python"
    }
  },
  "cells": [
    {
      "cell_type": "markdown",
      "metadata": {
        "id": "view-in-github",
        "colab_type": "text"
      },
      "source": [
        "<a href=\"https://colab.research.google.com/github/louvrehes/Numerical-Methods/blob/main/Matrix%20Algebra.ipynb\" target=\"_parent\"><img src=\"https://colab.research.google.com/assets/colab-badge.svg\" alt=\"Open In Colab\"/></a>"
      ]
    },
    {
      "cell_type": "markdown",
      "metadata": {
        "id": "HZZNeW5oLy9I"
      },
      "source": [
        "**Name**: ANGELO, Jamaica Joy S.\n",
        "<br>**Course**: Numerical Methods\n",
        "<br>**Section**: 58101"
      ]
    },
    {
      "cell_type": "markdown",
      "metadata": {
        "id": "BZmxAFX9UJCn"
      },
      "source": [
        "## Matrix and its Operations"
      ]
    },
    {
      "cell_type": "code",
      "metadata": {
        "id": "z_qmpY2uSHIb"
      },
      "source": [
        "import numpy as np"
      ],
      "execution_count": 2,
      "outputs": []
    },
    {
      "cell_type": "code",
      "metadata": {
        "colab": {
          "base_uri": "https://localhost:8080/"
        },
        "id": "m1u7E8n1U3nE",
        "outputId": "40a89387-53aa-4b75-a547-ec34be3407ee"
      },
      "source": [
        "a = np.array([1, 2, 3]) # This is a 1 x 3 array\n",
        "a"
      ],
      "execution_count": 9,
      "outputs": [
        {
          "output_type": "execute_result",
          "data": {
            "text/plain": [
              "array([1, 2, 3])"
            ]
          },
          "metadata": {},
          "execution_count": 9
        }
      ]
    },
    {
      "cell_type": "code",
      "metadata": {
        "colab": {
          "base_uri": "https://localhost:8080/"
        },
        "id": "9wBrAYsHWHgM",
        "outputId": "402b198b-df37-43e2-a890-6ea3dbf825ee"
      },
      "source": [
        "a[0]= 4\n",
        "a"
      ],
      "execution_count": 20,
      "outputs": [
        {
          "output_type": "execute_result",
          "data": {
            "text/plain": [
              "array([4, 2, 3])"
            ]
          },
          "metadata": {},
          "execution_count": 20
        }
      ]
    },
    {
      "cell_type": "code",
      "metadata": {
        "colab": {
          "base_uri": "https://localhost:8080/"
        },
        "id": "bqa-M0p5U4ep",
        "outputId": "74ec6469-6c37-4301-af03-aa9968b9637f"
      },
      "source": [
        "b = np.array([\n",
        "              [1, 2, 3], # This is an example of a 2x3 matrix\n",
        "              [4, 5, 6]\n",
        "])\n",
        "print(b)\n",
        "print(b.shape)"
      ],
      "execution_count": 15,
      "outputs": [
        {
          "output_type": "stream",
          "name": "stdout",
          "text": [
            "[[1 2 3]\n",
            " [4 5 6]]\n",
            "(2, 3)\n"
          ]
        }
      ]
    },
    {
      "cell_type": "code",
      "metadata": {
        "colab": {
          "base_uri": "https://localhost:8080/"
        },
        "id": "snfd7zavVT7W",
        "outputId": "a3661d74-837b-4227-f662-32bdc0bc7b59"
      },
      "source": [
        "b = np.array([\n",
        "              [1, 2, 3],\n",
        "              [4, 5, 6]\n",
        "])\n",
        "\n",
        "b[0,0] = 7\n",
        "print(b)\n",
        "\n"
      ],
      "execution_count": 19,
      "outputs": [
        {
          "output_type": "execute_result",
          "data": {
            "text/plain": [
              "array([[7, 2, 3],\n",
              "       [4, 5, 6]])"
            ]
          },
          "metadata": {},
          "execution_count": 19
        }
      ]
    },
    {
      "cell_type": "code",
      "metadata": {
        "colab": {
          "base_uri": "https://localhost:8080/"
        },
        "id": "-hHoK09zW9nL",
        "outputId": "95b7d67a-44c8-4839-f3c2-02a7c7db18dc"
      },
      "source": [
        "# Square Matrix\n",
        "c = np.array([\n",
        "              [1, 2, 3],\n",
        "              [4, 5, 6],\n",
        "              [7, 8, 9]\n",
        "])\n",
        "print(c)"
      ],
      "execution_count": 21,
      "outputs": [
        {
          "output_type": "stream",
          "name": "stdout",
          "text": [
            "[[1 2 3]\n",
            " [4 5 6]\n",
            " [7 8 9]]\n"
          ]
        }
      ]
    },
    {
      "cell_type": "code",
      "metadata": {
        "colab": {
          "base_uri": "https://localhost:8080/"
        },
        "id": "ijTv1dj_XcIj",
        "outputId": "b68260e2-869b-4bdb-cf3c-be219fef3cc9"
      },
      "source": [
        "d = np.full((2,2),7)\n",
        "print(d)"
      ],
      "execution_count": 22,
      "outputs": [
        {
          "output_type": "stream",
          "name": "stdout",
          "text": [
            "[[7 7]\n",
            " [7 7]]\n"
          ]
        }
      ]
    },
    {
      "cell_type": "markdown",
      "metadata": {
        "id": "6c8Gv8viYaXG"
      },
      "source": [
        "### <b>Identity Matrix"
      ]
    },
    {
      "cell_type": "code",
      "metadata": {
        "colab": {
          "base_uri": "https://localhost:8080/"
        },
        "id": "ZPbVuQvKX-Od",
        "outputId": "b7e8594e-5de2-41b5-cf19-606be5a09874"
      },
      "source": [
        "e = np.eye(2)\n",
        "print(e)"
      ],
      "execution_count": 23,
      "outputs": [
        {
          "output_type": "stream",
          "name": "stdout",
          "text": [
            "[[1. 0.]\n",
            " [0. 1.]]\n"
          ]
        }
      ]
    },
    {
      "cell_type": "markdown",
      "metadata": {
        "id": "od6QHBUKYdxW"
      },
      "source": [
        "### <b>Diagonal Matrix"
      ]
    },
    {
      "cell_type": "code",
      "metadata": {
        "colab": {
          "base_uri": "https://localhost:8080/"
        },
        "id": "nOc9u06BYYix",
        "outputId": "87e315df-874e-41cb-dd4f-59209bf030c4"
      },
      "source": [
        "e = np.diagonal([\n",
        "              [1, 2, 3],\n",
        "              [4, 5, 6],\n",
        "              [7, 8, 9]\n",
        "])\n",
        "print(e)"
      ],
      "execution_count": 27,
      "outputs": [
        {
          "output_type": "stream",
          "name": "stdout",
          "text": [
            "[1 5 9]\n"
          ]
        }
      ]
    },
    {
      "cell_type": "markdown",
      "metadata": {
        "id": "13unWtcPaeD2"
      },
      "source": [
        "### <b>Empty Matrix"
      ]
    },
    {
      "cell_type": "code",
      "metadata": {
        "colab": {
          "base_uri": "https://localhost:8080/"
        },
        "id": "dYuIfmRWY1zf",
        "outputId": "551c4cfd-b6b4-40e7-820f-71b7a98a18be"
      },
      "source": [
        "f = np.empty((0, 10))\n",
        "print(f)"
      ],
      "execution_count": 29,
      "outputs": [
        {
          "output_type": "stream",
          "name": "stdout",
          "text": [
            "[]\n"
          ]
        }
      ]
    },
    {
      "cell_type": "markdown",
      "metadata": {
        "id": "pUom6xirahUF"
      },
      "source": [
        "### <b>Zeros Matrix"
      ]
    },
    {
      "cell_type": "code",
      "metadata": {
        "colab": {
          "base_uri": "https://localhost:8080/"
        },
        "id": "SNOCCzyuaJH2",
        "outputId": "3026cd58-c018-42ad-fc95-de38fcd101b9"
      },
      "source": [
        "g = np.zeros((2,2))\n",
        "print(g)"
      ],
      "execution_count": 30,
      "outputs": [
        {
          "output_type": "stream",
          "name": "stdout",
          "text": [
            "[[0. 0.]\n",
            " [0. 0.]]\n"
          ]
        }
      ]
    },
    {
      "cell_type": "code",
      "metadata": {
        "colab": {
          "base_uri": "https://localhost:8080/"
        },
        "id": "GQO762sBadZB",
        "outputId": "fd12629b-9142-4f68-ba9c-69c52aa390d8"
      },
      "source": [
        "e = np.eye(2)\n",
        "g = np.zeros((2,2))\n",
        "print(e)\n",
        "print(g)\n",
        "print(e+g) # This is the code to get the summation of matrices e and g\n",
        "print(e-g) # This is the code to get the difference of matrices e and g\n",
        "print(g-e)"
      ],
      "execution_count": 33,
      "outputs": [
        {
          "output_type": "stream",
          "name": "stdout",
          "text": [
            "[[1. 0.]\n",
            " [0. 1.]]\n",
            "[[0. 0.]\n",
            " [0. 0.]]\n",
            "[[1. 0.]\n",
            " [0. 1.]]\n",
            "[[1. 0.]\n",
            " [0. 1.]]\n",
            "[[-1.  0.]\n",
            " [ 0. -1.]]\n"
          ]
        }
      ]
    },
    {
      "cell_type": "code",
      "metadata": {
        "id": "eibAE559bBAO"
      },
      "source": [
        ""
      ],
      "execution_count": null,
      "outputs": []
    }
  ]
}