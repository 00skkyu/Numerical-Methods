{
  "nbformat": 4,
  "nbformat_minor": 0,
  "metadata": {
    "colab": {
      "name": "Python Exercise 3.ipynb",
      "provenance": [],
      "collapsed_sections": [],
      "authorship_tag": "ABX9TyMXvWX97mMDYH/Jgv3uT9Pc",
      "include_colab_link": true
    },
    "kernelspec": {
      "name": "python3",
      "display_name": "Python 3"
    },
    "language_info": {
      "name": "python"
    }
  },
  "cells": [
    {
      "cell_type": "markdown",
      "metadata": {
        "id": "view-in-github",
        "colab_type": "text"
      },
      "source": [
        "<a href=\"https://colab.research.google.com/github/louvrehes/Numerical-Methods/blob/main/Python%20Exercise%203.ipynb\" target=\"_parent\"><img src=\"https://colab.research.google.com/assets/colab-badge.svg\" alt=\"Open In Colab\"/></a>"
      ]
    },
    {
      "cell_type": "markdown",
      "metadata": {
        "id": "GpxmxlRpbXcY"
      },
      "source": [
        "ANGELO, Jamaica Joy S."
      ]
    },
    {
      "cell_type": "markdown",
      "metadata": {
        "id": "jM7JdyJlYZiF"
      },
      "source": [
        "## Determinants of Matrix using `np.linalg.det`"
      ]
    },
    {
      "cell_type": "code",
      "metadata": {
        "id": "LbpEvId4RqPJ"
      },
      "source": [
        "import numpy as np"
      ],
      "execution_count": 1,
      "outputs": []
    },
    {
      "cell_type": "code",
      "metadata": {
        "colab": {
          "base_uri": "https://localhost:8080/"
        },
        "id": "QDDU4JjTZMAD",
        "outputId": "bf400dd3-1cb7-443f-fe64-1671ea5c01ff"
      },
      "source": [
        "A = np.array([\n",
        "             [1,2,-1],\n",
        "             [4,6,-2],\n",
        "             [-1,3,3] \n",
        "])\n",
        "A\n",
        "np.linalg.det(A)\n",
        "round(np.linalg.det(A)) # To get the answer as an integer instead of decimal."
      ],
      "execution_count": 15,
      "outputs": [
        {
          "output_type": "execute_result",
          "data": {
            "text/plain": [
              "-14"
            ]
          },
          "metadata": {},
          "execution_count": 15
        }
      ]
    },
    {
      "cell_type": "code",
      "metadata": {
        "id": "SGnw9lVvSIT-"
      },
      "source": [
        ""
      ],
      "execution_count": null,
      "outputs": []
    }
  ]
}