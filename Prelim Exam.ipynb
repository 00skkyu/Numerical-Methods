{
  "nbformat": 4,
  "nbformat_minor": 0,
  "metadata": {
    "colab": {
      "name": "Prelim Exam.ipynb",
      "provenance": [],
      "collapsed_sections": [],
      "authorship_tag": "ABX9TyNgH4gtqJT8ESG6DQVyNsKY",
      "include_colab_link": true
    },
    "kernelspec": {
      "name": "python3",
      "display_name": "Python 3"
    },
    "language_info": {
      "name": "python"
    }
  },
  "cells": [
    {
      "cell_type": "markdown",
      "metadata": {
        "id": "view-in-github",
        "colab_type": "text"
      },
      "source": [
        "<a href=\"https://colab.research.google.com/github/louvrehes/Numerical-Methods/blob/main/Prelim%20Exam.ipynb\" target=\"_parent\"><img src=\"https://colab.research.google.com/assets/colab-badge.svg\" alt=\"Open In Colab\"/></a>"
      ]
    },
    {
      "cell_type": "markdown",
      "metadata": {
        "id": "bP4L3T25RSd9"
      },
      "source": [
        "ANGELO, Jamaica Joy S."
      ]
    },
    {
      "cell_type": "markdown",
      "metadata": {
        "id": "beoZuW9cRjat"
      },
      "source": [
        "### **Prelim Exam**"
      ]
    },
    {
      "cell_type": "code",
      "metadata": {
        "id": "j7KJTTgcROS-"
      },
      "source": [
        "import numpy as np"
      ],
      "execution_count": 1,
      "outputs": []
    },
    {
      "cell_type": "code",
      "metadata": {
        "colab": {
          "base_uri": "https://localhost:8080/"
        },
        "id": "FU04aGJfRclb",
        "outputId": "866b506a-d0b3-4cf4-8891-7370731d2241"
      },
      "source": [
        "A = np.array([\n",
        "              [1, 2, 3],\n",
        "              [2, 3, 3],\n",
        "              [3, 4, -2]\n",
        "])\n",
        "round(np.linalg.det(A))"
      ],
      "execution_count": 7,
      "outputs": [
        {
          "output_type": "execute_result",
          "data": {
            "text/plain": [
              "5"
            ]
          },
          "metadata": {},
          "execution_count": 7
        }
      ]
    }
  ]
}